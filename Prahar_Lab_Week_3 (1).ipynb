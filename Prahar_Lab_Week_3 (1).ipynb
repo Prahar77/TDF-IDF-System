{
  "nbformat": 4,
  "nbformat_minor": 0,
  "metadata": {
    "colab": {
      "provenance": []
    },
    "kernelspec": {
      "name": "python3",
      "display_name": "Python 3"
    },
    "language_info": {
      "name": "python"
    }
  },
  "cells": [
    {
      "cell_type": "markdown",
      "source": [
        "# TF-IDF Vectorization"
      ],
      "metadata": {
        "id": "hb25FWe_RwzE"
      }
    },
    {
      "cell_type": "markdown",
      "source": [
        "# Import Important Library"
      ],
      "metadata": {
        "id": "BW1fmNMnXmCw"
      }
    },
    {
      "cell_type": "code",
      "execution_count": 1,
      "metadata": {
        "colab": {
          "base_uri": "https://localhost:8080/"
        },
        "id": "5nyRaszTNHVh",
        "outputId": "8098e57c-ec6c-4d6d-afb1-0d1cab01a8fc"
      },
      "outputs": [
        {
          "output_type": "stream",
          "name": "stderr",
          "text": [
            "[nltk_data] Downloading package stopwords to /root/nltk_data...\n",
            "[nltk_data]   Unzipping corpora/stopwords.zip.\n",
            "[nltk_data] Downloading package punkt to /root/nltk_data...\n",
            "[nltk_data]   Unzipping tokenizers/punkt.zip.\n",
            "[nltk_data] Downloading package wordnet to /root/nltk_data...\n"
          ]
        }
      ],
      "source": [
        "import numpy as np\n",
        "import math\n",
        "import nltk\n",
        "nltk.download('stopwords')\n",
        "nltk.download('punkt')\n",
        "nltk.download('wordnet')\n",
        "import os\n",
        "import string\n",
        "import logging\n",
        "import re\n",
        "from collections import defaultdict, Counter\n",
        "from nltk.corpus import stopwords\n",
        "from nltk.tokenize import word_tokenize\n",
        "from nltk.stem import WordNetLemmatizer"
      ]
    },
    {
      "cell_type": "code",
      "source": [
        "from google.colab import drive\n",
        "drive.mount('/content/drive')"
      ],
      "metadata": {
        "colab": {
          "base_uri": "https://localhost:8080/"
        },
        "id": "-vmRF-U-Rjoi",
        "outputId": "e6766076-1b33-4515-9777-d3c26098e316"
      },
      "execution_count": 1,
      "outputs": [
        {
          "output_type": "stream",
          "name": "stdout",
          "text": [
            "Mounted at /content/drive\n"
          ]
        }
      ]
    },
    {
      "cell_type": "markdown",
      "source": [
        "# Uploading the file and loading into List"
      ],
      "metadata": {
        "id": "F7d6hFDDPn8u"
      }
    },
    {
      "source": [
        "# Read documents from uploaded files\n",
        "file_paths = [\"/content/drive/MyDrive/Information Retrieval System/Week3/docs\"]\n",
        "\n",
        "# Load documents into a list\n",
        "docs = []\n",
        "for file_path in file_paths:\n",
        "    # Check if the path is a directory\n",
        "    if os.path.isdir(file_path):\n",
        "        # If it's a directory, iterate through its files\n",
        "        for filename in os.listdir(file_path):\n",
        "            filepath = os.path.join(file_path, filename)\n",
        "            # Check if it's a file and then read\n",
        "            if os.path.isfile(filepath):\n",
        "                with open(filepath, 'r', encoding='utf-8') as file:\n",
        "                    docs.append(file.read())\n",
        "    # If it's not a directory, try reading it as a file\n",
        "    elif os.path.isfile(file_path):\n",
        "        with open(file_path, 'r', encoding='utf-8') as file:\n",
        "            docs.append(file.read())"
      ],
      "cell_type": "code",
      "metadata": {
        "id": "ZTKtKdyVOkpc"
      },
      "execution_count": 3,
      "outputs": []
    },
    {
      "cell_type": "markdown",
      "source": [
        "# Defining the Queries"
      ],
      "metadata": {
        "id": "HEmPdnLUP7KX"
      }
    },
    {
      "cell_type": "code",
      "source": [
        "# Define the queries manually (for testing purpose)\n",
        "queries = [\n",
        "    \"streaming issues\",\n",
        "    \"Call of Duty\",\n",
        "    \"cancellation fee\",\n",
        "    \"binge-watching sessions\"\n",
        "]"
      ],
      "metadata": {
        "id": "vFUx0TmvO33Y"
      },
      "execution_count": 22,
      "outputs": []
    },
    {
      "cell_type": "markdown",
      "source": [
        "# Text Preprocessing"
      ],
      "metadata": {
        "id": "mzYxf-HSP_3p"
      }
    },
    {
      "cell_type": "code",
      "source": [
        "# Function to lowercase and tokenize text\n",
        "def tokenize(text):\n",
        "    return text.lower().split()\n",
        "\n",
        " # Convert to lowercase\n",
        "    text = text.lower()\n",
        "    # Remove special characters and punctuation\n",
        "    text = re.sub(r\"[^a-zA-Z0-9\\s]\", \"\", text)\n",
        "    # Remove digit\n",
        "    text = re.sub(r\"\\d+\", \"\", text)"
      ],
      "metadata": {
        "id": "nTbT-awuO37P"
      },
      "execution_count": 24,
      "outputs": []
    },
    {
      "cell_type": "code",
      "source": [
        "# Tokenize documents and queries\n",
        "tokenized_docs = [tokenize(doc) for doc in docs]\n",
        "tokenized_queries = [tokenize(query) for query in queries]\n",
        "\n",
        "# Create a vocabulary from the tokenized documents\n",
        "vocab = list(set(term for doc in tokenized_docs for term in doc))\n",
        "\n",
        "\n",
        "print(tokenized_docs)\n",
        "print(tokenized_queries)\n",
        "print(vocab)"
      ],
      "metadata": {
        "colab": {
          "base_uri": "https://localhost:8080/"
        },
        "id": "ZZbE-LhSSAdO",
        "outputId": "b4746aa6-7880-4097-b9df-053729f0d822"
      },
      "execution_count": 25,
      "outputs": [
        {
          "output_type": "stream",
          "name": "stdout",
          "text": [
            "[['@facebooksupport', '-', 'account', 'lock', 'issues', 'numerous', 'facebook', 'users', 'have', 'found', 'their', 'accounts', 'locked', 'without', 'warning,', 'particularly', 'after', 'a', 'recent', 'security', 'update.', 'many', 'users', 'have', 'reported', 'receiving', 'a', 'message', 'that', 'their', 'account', 'is', 'under', 'review,', 'but', 'no', 'further', 'communication', 'has', 'been', 'provided.', 'attempts', 'to', 'reset', 'passwords', 'or', 'verify', 'identities', 'have', 'not', 'been', 'successful', 'for', 'some.', 'facebook’s', 'support', 'team', 'is', 'responding', 'on', 'social', 'media,', 'directing', 'users', 'to', 'their', 'account', 'recovery', 'page,', 'but', 'several', 'people', 'have', 'reported', 'long', 'wait', 'times', 'before', 'receiving', 'any', 'resolution.', 'this', 'has', 'caused', 'frustration', 'among', 'users,', 'especially', 'those', 'who', 'rely', 'on', 'facebook', 'for', 'business', 'purposes.', 'there’s', 'a', 'growing', 'demand', 'for', 'quicker', 'resolution', 'times', 'and', 'better', 'communication', 'from', 'facebook', 'regarding', 'account', 'security', 'protocols.', 'for', 'more', 'help,', 'visit', 'https://www.facebook.com', '#facebookaccountlocked', '#facebooksupport'], ['@netflixhelps', '-', 'streaming', 'issues', 'many', 'netflix', 'users', 'have', 'been', 'facing', 'streaming', 'issues', 'since', 'the', 'recent', 'app', 'update.', 'some', 'users', 'on', 'android', 'devices', 'are', 'experiencing', 'buffering', 'even', 'with', 'strong', 'internet', 'connections,', 'while', 'others', 'report', 'that', 'video', 'quality', 'drops', 'suddenly.', 'reinstalling', 'the', 'app', \"doesn't\", 'seem', 'to', 'fix', 'the', 'problem,', 'and', 'the', 'issues', 'persist', 'across', 'different', 'devices.', \"netflix's\", 'support', 'team', 'has', 'been', 'responding', 'with', 'the', 'usual', 'advice,', 'like', 'clearing', 'cache', 'or', 'checking', 'internet', 'speed,', 'but', 'the', 'solution', 'isn’t', 'consistent.', 'others', 'have', 'complained', 'that', 'the', 'app', 'crashes', 'entirely', 'when', 'casting', 'to', 'devices', 'like', 'chromecast', 'or', 'fire', 'stick.', 'while', \"netflix's\", 'social', 'media', 'support', 'remains', 'active,', 'a', 'few', 'users', 'have', 'expressed', 'frustration', 'over', 'the', 'lack', 'of', 'a', 'permanent', 'fix.', 'many', 'users', 'are', 'hoping', 'that', 'the', 'next', 'app', 'update', 'will', 'resolve', 'the', 'problems.', 'for', 'now,', 'checking', 'the', 'netflix', 'support', 'page', 'for', 'potential', 'updates', 'seems', 'to', 'be', 'the', 'best', 'option.', 'for', 'more', 'information', 'on', 'current', 'issues', 'or', 'to', 'report', 'problems,', 'users', 'can', 'visit', 'https://www.netflixhelpcenter.com', '#netflixproblems', '#streamingissues'], ['@netflixhelp', '-', 'buffering', 'issues', 'hey', '@netflixhelp!', '🍿', 'i’ve', 'been', 'having', 'some', 'serious', 'buffering', 'problems', 'lately,', 'and', \"it's\", 'ruining', 'my', 'binge-watching', 'sessions!', 'every', 'time', 'i', 'try', 'to', 'stream', 'a', 'movie', 'or', 'show,', 'it', 'gets', 'stuck', 'loading', 'at', '25%,', 'and', 'when', 'it', 'does', 'start,', 'the', 'quality', 'is', 'terrible.', '😩', 'i’ve', 'already', 'tried', 'restarting', 'my', 'router', 'and', 'even', 'reinstalling', 'the', 'app', 'on', 'my', 'smart', 'tv,', 'but', 'nothing', 'seems', 'to', 'help.', 'i’m', 'on', 'a', '100', 'mbps', 'connection,', 'so', 'speed', 'shouldn’t', 'be', 'the', 'issue.', 'is', 'there', 'something', 'wrong', 'with', 'the', 'servers', 'or', 'should', 'i', 'try', 'adjusting', 'my', 'settings?', 'i’ve', 'seen', 'others', 'on', 'reddit', 'complaining', 'about', 'the', 'same', 'thing,', 'so', 'it’s', 'definitely', 'not', 'just', 'me.', 'a', 'fix', 'would', 'be', 'awesome!', 'for', 'troubleshooting', 'tips,', 'check', 'out', 'https://help.netflix.com.', '#netflixproblems', '#bufferingissues', '#bingeinterrupted', '😤'], ['@uber_support', '-', 'ride', 'cancellation', 'confusion', '@uber_support,', 'what’s', 'going', 'on', 'with', 'all', 'these', 'cancellations?', '🤔', 'i’ve', 'had', 'three', 'drivers', 'cancel', 'my', 'ride', 'in', 'the', 'last', 'hour,', 'and', 'now', 'i’m', 'stuck', 'waiting', 'for', 'another', 'one!', 'every', 'time', 'a', 'driver', 'is', 'close', 'by,', 'they', 'suddenly', 'cancel,', 'and', 'i’m', 'left', 'without', 'any', 'ride', 'and', 'still', 'get', 'charged', 'a', 'cancellation', 'fee.', '😡', 'not', 'cool.', 'i’ve', 'already', 'contacted', 'customer', 'support,', 'but', 'they', 'keep', 'telling', 'me', 'it’s', 'a', 'driver', 'issue.', 'is', 'there', 'any', 'way', 'to', 'improve', 'the', 'matching', 'system?', 'i’m', 'trying', 'to', 'get', 'to', 'an', 'appointment,', 'and', 'this', 'is', 'super', 'frustrating.', 'more', 'details', 'at', 'https://help.uber.com', 'if', 'anyone', 'else', 'is', 'facing', 'the', 'same.', '#uberissues', '#drivercancellations', '#frustratedrider'], ['@microsofthelps', '-', 'windows', '11', 'issues', 'after', 'the', 'latest', 'windows', '11', 'update,', 'users', 'are', 'experiencing', 'a', 'variety', 'of', 'problems.', 'some', 'have', 'noted', 'that', 'their', 'systems', 'freeze', 'unexpectedly,', 'while', 'others', 'are', 'reporting', 'compatibility', 'issues', 'with', 'older', 'applications.', 'the', 'new', 'update', 'has', 'also', 'caused', 'wi-fi', 'connectivity', 'issues', 'for', 'some,', 'where', 'the', 'connection', 'keeps', 'dropping', 'intermittently.', \"microsoft's\", 'customer', 'service', 'team', 'has', 'suggested', 'rolling', 'back', 'to', 'a', 'previous', 'update', 'or', 'performing', 'a', 'clean', 'installation', 'of', 'windows,', 'but', 'these', 'solutions', 'are', 'not', 'ideal', 'for', 'all', 'users.', 'there’s', 'growing', 'frustration,', 'particularly', 'among', 'those', 'who', 'rely', 'on', 'their', 'pcs', 'for', 'work.', 'microsoft', 'has', 'yet', 'to', 'provide', 'an', 'official', 'statement', 'addressing', 'these', 'widespread', 'issues,', 'though', 'many', 'expect', 'a', 'patch', 'in', 'the', 'coming', 'weeks.', 'for', 'more', 'information,', 'users', 'can', 'visit', 'https://www.microsoftsupport.com', '#windows11', '#microsoftupdateissues'], ['@uber_support', '-', 'driver', 'cancellations', 'uber', 'riders', 'have', 'been', 'experiencing', 'a', 'surge', 'in', 'driver', 'cancellations,', 'with', 'many', 'reporting', 'that', 'drivers', 'cancel', 'at', 'the', 'last', 'minute,', 'leaving', 'them', 'stranded.', 'this', 'issue', 'is', 'particularly', 'noticeable', 'during', 'peak', 'hours', 'or', 'in', 'busy', 'cities,', 'where', 'drivers', 'accept', 'a', 'ride,', 'only', 'to', 'cancel', 'moments', 'later', 'if', 'they', 'find', 'a', 'more', 'convenient', 'fare.', 'uber’s', 'support', 'team', 'has', 'been', 'advising', 'customers', 'to', 'report', 'these', 'incidents', 'through', 'the', 'app,', 'but', 'there’s', 'frustration', 'over', 'the', 'lack', 'of', 'immediate', 'compensation', 'or', 'ride', 'alternatives.', 'many', 'users', 'feel', 'that', 'the', 'company', 'needs', 'to', 'implement', 'stricter', 'policies', 'to', 'prevent', 'drivers', 'from', 'canceling', 'rides', 'without', 'consequences.', 'for', 'more', 'assistance,', 'riders', 'can', 'check', 'https://www.uberhelp.com', '#ubercancellations', '#ubersupport'], ['@xboxsupport', '-', 'game', 'downloads', 'stuck', 'xbox', 'gamers', 'are', 'facing', 'issues', 'with', 'game', 'downloads,', 'particularly', 'after', 'a', 'recent', 'update', 'to', 'the', 'xbox', 'series', 'x.', 'some', 'users', 'have', 'reported', 'that', 'their', 'downloads', 'get', 'stuck', 'at', '99%,', 'while', 'others', 'are', 'unable', 'to', 'start', 'a', 'download', 'at', 'all.', 'this', 'issue', 'has', 'been', 'particularly', 'frustrating', 'for', 'those', 'looking', 'to', 'play', 'new', 'releases.', 'microsoft’s', 'xbox', 'support', 'team', 'has', 'been', 'responding', 'to', 'these', 'issues', 'by', 'suggesting', 'users', 'restart', 'their', 'consoles', 'or', 'check', 'their', 'internet', 'connections,', 'but', 'the', 'problem', 'seems', 'more', 'widespread', 'than', 'network', 'issues.', 'gamers', 'are', 'hoping', 'for', 'a', 'more', 'permanent', 'fix', 'in', 'the', 'upcoming', 'system', 'update.', 'for', 'more', 'information', 'on', 'resolving', 'download', 'issues,', 'visit', 'https://www.xboxsupport.com', '#xboxdownloadissues', '#xboxseriesx'], ['@playstationsupport', '-', 'controller', 'drift', '@playstationsupport', 'i’m', 'experiencing', 'some', 'serious', 'controller', 'drift', 'on', 'my', 'dualsense', '😕.', 'whenever', 'i', 'play', 'any', 'game,', 'my', 'character', 'moves', 'on', 'its', 'own,', 'especially', 'to', 'the', 'left.', 'i’ve', 'tried', 'recalibrating', 'it,', 'but', 'it', 'doesn’t', 'seem', 'to', 'fix', 'the', 'issue.', 'it’s', 'starting', 'to', 'get', 'super', 'annoying,', 'especially', 'when', 'i’m', 'playing', 'competitive', 'games', 'like', 'fifa', 'and', 'call', 'of', 'duty.', '🎮', 'i’ve', 'heard', 'some', 'people', 'talking', 'about', 'this', 'being', 'a', 'hardware', 'issue', 'with', 'the', 'thumbstick,', 'but', 'i', 'don’t', 'want', 'to', 'buy', 'a', 'new', 'controller', 'just', 'yet.', 'can', 'you', 'recommend', 'a', 'workaround', 'or', 'solution?', 'check', 'out', 'more', 'troubleshooting', 'steps', 'here:', 'https://support.playstation.com', '#ps5controllerdrift', '#gamingproblems'], ['@applesupport', 'many', 'users', 'are', 'reporting', 'issues', 'after', 'the', 'latest', 'ios', 'update.', 'battery', 'life', 'seems', 'to', 'drain', 'faster,', 'and', 'apps', 'like', 'safari', 'are', 'crashing', 'frequently.', 'some', 'users', 'have', 'tried', 'reinstalling', 'the', 'update,', 'but', 'it', \"doesn't\", 'seem', 'to', 'resolve', 'the', 'problem.', 'check', 'out', 'more', 'discussions', 'at', 'https://support.apple.com/ios-updates.', '#iosupdate', '#appleproblems', '@105836', \"it's\", 'working', 'ok', 'from', 'here,', 'miriam.', 'does', 'this', 'link', 'help', 'https://t.co/0m2mph15eh', '?', '^mm', '@virgintrains', 'i', 'still', \"haven't\", 'heard', '&amp;', 'the', 'number', \"i'm\", 'directed', 'to', 'by', 'phone', 'is', 'a', 'dead', 'end', '&amp;', 'the', 'live', 'chat', \"doesn't\", 'work.', 'can', 'someone', 'call', 'me?', '@105836', \"that's\", 'what', \"we're\", 'here', 'for', 'miriam', 'ðÿ˜š', 'the', 'team', 'should', 'send', 'you', 'an', 'email', 'shortly', '^hp', '@105837', 'we', 'can', 'help.', 'which', 'version', 'of', 'ios', 'are', 'you', 'on?', 'you', 'can', 'find', 'that', 'in', 'settings', '&gt;', 'general', '&gt;', 'about.', 'reply', 'in', 'dm.', 'https://t.co/gdrqu22ypt', '@105838', '@applesupport', 'me', 'too', 'am', 'suffering', ',', 'hope', 'the', 'can', 'find', 'a', 'solution', '@applesupport', 'hi', '#apple,', 'iâ€™ve', 'a', 'concern', 'about', 'the', 'latest', 'ios', 'is', 'too', 'slow', 'on', '#iphone6', 'and', 'i', 'am', 'not', 'happy', 'with', 'it.', 'any', 'solution', 'please?', '@105839', 'thanks', 'for', 'reaching', 'out', 'to', 'us.', 'we', 'are', 'always', 'happy', 'to', 'help.', 'send', 'us', 'a', 'dm', 'so', 'we', 'can', 'look', 'into', 'this', 'together.', 'https://t.co/gdrqu22ypt', '@76099', 'plz', 'i', 'beg', 'you,', 'sort', 'your', 'battery', 'life', 'outðÿ˜©\"'], ['@amazonhelp', '-', 'delivery', 'delays', 'amazon', 'prime', 'members', 'are', 'reporting', 'significant', 'delays', 'in', 'deliveries.', 'many', 'customers,', 'who', 'are', 'used', 'to', 'the', 'guaranteed', 'two-day', 'shipping,', 'have', 'noticed', 'that', 'their', 'packages', 'are', 'arriving', 'late,', 'with', 'some', 'being', 'delayed', 'for', 'over', 'a', 'week.', 'the', 'issue', 'seems', 'to', 'affect', 'various', 'regions', 'and', 'is', 'not', 'limited', 'to', 'specific', 'products.', 'some', 'users', 'have', 'reached', 'out', 'to', 'amazon', 'via', 'social', 'media,', 'expressing', 'concerns', 'about', 'the', 'lack', 'of', 'real-time', 'updates', 'for', 'their', 'deliveries.', 'while', 'amazon’s', 'customer', 'service', 'team', 'is', 'responsive,', 'offering', 'refunds', 'or', 'free', 'months', 'of', 'prime', 'membership,', 'the', 'root', 'cause', 'of', 'the', 'delay', 'remains', 'unclear.', 'with', 'the', 'upcoming', 'holiday', 'season,', 'many', 'are', 'worried', 'that', 'this', 'issue', 'will', 'worsen,', 'leading', 'to', 'missed', 'gifts', 'and', 'frustrated', 'customers.', 'for', 'more', 'details', 'on', 'delivery', 'status,', 'users', 'can', 'check', 'the', 'https://www.amazondeliveryhelp.com', '#amazonprime', '#deliverydelays']]\n",
            "[['battery', 'life', 'out'], ['call', 'of', 'duty'], ['cancellation', 'fee']]\n",
            "['this', 'cancel', 'better', 'best', 'downloads', 'starting', 'workaround', 'consequences.', ',', 'cool.', 'series', 'missed', 'being', '#amazonprime', 'drops', 'several', 'usual', 'freeze', '^hp', 'gamers', 'ok', 'serious', 'shouldn’t', 'visit', 'clean', 'leading', 'consistent.', 'help', 'unclear.', 'support,', 'downloads,', 'out', 'frequently.', 'warning,', 'adjusting', 'accounts', 'isn’t', 'permanent', '😤', 'applications.', 'noticed', 'expressing', 'week.', 'directing', 'installation', 'confusion', 'battery', '@uber_support', '#gamingproblems', 'recalibrating', 'products.', 'convenient', '#appleproblems', 'uber’s', 'under', 'needs', 'gifts', 'variety', 'left.', 'months', 'people', 'is', 'social', 'when', 'later', '@playstationsupport', 'apps', 'cancellations', 'option.', 'it', 'number', '#bingeinterrupted', 'find', 'matching', 'on?', 'look', 'outðÿ˜©\"', 'business', 'can', 'help.', 'of', 'few', 'intermittently.', '#drivercancellations', 'regarding', 'unexpectedly,', 'android', 'suddenly.', 'hope', 'troubleshooting', 'me?', 'suggested', 'from', 'cancel,', 'advice,', 'dead', 'tips,', 'life', 'late,', 'updates', 'caused', 'resolving', 'i’m', 'than', 'here:', 'reddit', 'different', 'phone', 'used', '#netflixproblems', 'moves', 'and', 'users', 'addressing', \"we're\", 'more', 'locked', 'settings?', 'packages', 'i’ve', 'please?', 'games', 'assistance,', 'keep', 'delayed', 'many', 'upcoming', '&gt;', 'too', 'stream', 'casting', \"microsoft's\", 'link', 'update,', 'iâ€™ve', 'concern', 'duty.', 'tried', 'chromecast', '99%,', 'heard', 'communication', 'should', 'coming', 'an', \"i'm\", 'am', \"it's\", 'speed', 'try', 'growing', 'time', 'pcs', 'receiving', 'shortly', '😡', 'no', 'clearing', '#facebookaccountlocked', 'download', 'recovery', \"doesn't\", 'cancellation', 'complained', 'loading', 'about.', '25%,', 'peak', 'prime', 'been', '#windows11', 'during', 'have', 'reported', 'potential', 'weeks.', 'frustrating.', 'like', 'quality', 'identities', 'resolve', 'end', '#iphone6', 'yet.', 'details', 'same.', 'annoying,', 'just', 'drift', 'now,', 'fire', 'rolling', 'x.', 'account', 'solution?', 'netflix', 'wrong', 'through', 'delay', 'customers.', 'expect', '@virgintrains', 'internet', 'still', 'competitive', \"that's\", 'worsen,', 'awesome!', 'cities,', 'definitely', 'system?', 'fee.', 'stuck', 'attempts', '😕.', 'responsive,', 'incidents', 'steps', '@amazonhelp', 'media', 'hours', 'customers', 'information', 'members', '#xboxseriesx', '🤔', 'current', 'https://t.co/gdrqu22ypt', 'https://support.playstation.com', '@microsofthelps', 'send', 'hardware', 'https://support.apple.com/ios-updates.', 'worried', '-', 'ride', 'check', 'frustration,', 'fifa', 'the', '🎮', 'official', 'https://help.netflix.com.', 'resolution.', 'immediate', '?', 'general', 'plz', 'connections,', 'statement', 'via', 'https://www.uberhelp.com', '#microsoftupdateissues', 'into', 'those', 'restarting', 'having', 'thing,', 'faster,', 'it,', '😩', 'successful', '@76099', 'playing', 'chat', 'while', 'email', 'problem,', 'don’t', 'thumbstick,', 'settings', 'app', '@uber_support,', 'facebook', 'team', 'rides', 'performing', 'before', 'latest', 'work.', 'gets', 'what’s', 'looking', 'https://www.microsoftsupport.com', 'entirely', 'there’s', 'page', 'dropping', 'character', 'demand', 'doesn’t', \"haven't\", 'responding', '#frustratedrider', 'implement', 'microsoft’s', 'ios', 'which', 'same', 'going', 'only', 'specific', 'quicker', 'there', 'solution', 'compatibility', 'wi-fi', 'information,', 'support', '11', 'provided.', '100', '#ubercancellations', 'users,', 'ride,', 'sessions!', 'are', 'driver', 'will', 'membership,', 'by', 'expressed', 'help,', 'widespread', 'cache', '@105838', 'season,', 'problem.', 'would', 'beg', 'my', 'we', 'frustration', 'mbps', '@xboxsupport', 'to', 'further', 'anyone', 'drain', 'way', 'experiencing', 'start', 'with', 'but', 'working', 'issues,', 'talking', 'issues.', 'you', 'deliveries.', 'in', 'they', 'holiday', 'guaranteed', 'keeps', 'amazon’s', 'fare.', 'seems', 'back', 'long', 'another', 'reached', 'purposes.', 'root', 'any', 'tv,', 'ðÿ˜š', 'among', 'miriam', 'problems', 'us.', 'streaming', 'compensation', 'show,', 'else', 'https://t.co/0m2mph15eh', 'frustrated', '@netflixhelps', 'though', 'whenever', '@105837', 'left', 'thanks', 'me', 'their', 'router', 'patch', 'not', 'review,', 'safari', 'stranded.', 'call', 'especially', 'numerous', 'drivers', 'miriam.', 'fix.', 'yet', 'some.', 'so', 'cause', 'already', 'what', 'sort', 'hey', 'consoles', 'cancellations?', 'older', 'resolution', 'game', 'xbox', 'even', 'update.', 'network', 'controller', '@105839', 'someone', 'active,', 'connection,', 'issue.', 'media,', 'issues', '#uberissues', 'message', 'servers', 'crashing', 'noted', 'improve', 'has', 'windows,', 'all', 'game,', 'system', 'trying', 'connection', 'delivery', 'update', 'contacted', '#ubersupport', 'one!', 'problem', 'page,', 'also', 'all.', '@facebooksupport', 'windows', 'fix', 'us', 'delays', '#streamingissues', 'telling', 'https://help.uber.com', '#deliverydelays', 'suffering', 'nothing', 'new', 'moments', 'terrible.', 'wait', 'suddenly', 'solutions', '^mm', '#facebooksupport', 'issue', 'now', 'facing', 'some,', 'lately,', 'security', 'get', 'checking', 'feel', 'reaching', '🍿', 'you,', 'problems.', 'where', 'dm.', 'hour,', 'buy', 'dm', 'ruining', 'be', 'smart', 'https://www.facebook.com', 'others', 'refunds', 'regions', 'these', 'reinstalling', '@netflixhelp!', 'times', 'waiting', 'who', 'over', 'customers,', '@105836', 'significant', 'next', 'two-day', 'here', 'something', 'some', 'does', 'uber', 'a', 'that', 'by,', 'concerns', 'about', 'binge-watching', 'company', 'reply', 'every', 'microsoft', 'releases.', 'frustrating', 'hoping', 'own,', 'ideal', 'i', 'after', 'status,', 'them', 'buffering', 'for', 'passwords', 'its', 'start,', 'me.', 'remains', 'offering', '#iosupdate', 'canceling', 'it.', 'found', 'cancellations,', 'provide', 'free', 'problems,', 'across', 'here,', 'shipping,', 'restart', 'dualsense', '#xboxdownloadissues', '#apple,', 'had', 'particularly', 'want', 'slow', 'surge', 'happy', 'hi', '@applesupport', 'discussions', 'advising', 'app,', 'last', 'devices', 'lack', 'always', 'devices.', 'riders', 'play', 'recent', 'amazon', 'complaining', 'charged', 'minute,', 'https://www.xboxsupport.com', 'seem', 'service', 'recommend', 'protocols.', 'video', 'systems', 'busy', 'or', 'unable', 'https://www.amazondeliveryhelp.com', 'report', 'lock', 'speed,', 'seen', 'stricter', 'three', 'previous', 'super', 'affect', 'real-time', 'policies', 'leaving', 'movie', 'your', 'live', 'together.', 'since', 'noticeable', \"netflix's\", 'limited', 'prevent', 'accept', 'rely', 'reset', 'https://www.netflixhelpcenter.com', 'version', 'without', '@netflixhelp', 'close', 'alternatives.', 'verify', 'customer', 'various', 'facebook’s', '&amp;', 'on', 'stick.', '#ps5controllerdrift', 'appointment,', 'persist', 'users.', 'at', 'directed', 'reporting', 'strong', '#bufferingissues', 'suggesting', 'arriving', 'it’s', 'crashes', 'if', 'connectivity']\n"
          ]
        }
      ]
    },
    {
      "cell_type": "markdown",
      "source": [
        "# Term Frequency (TF)"
      ],
      "metadata": {
        "id": "QFdQHliSTgZU"
      }
    },
    {
      "cell_type": "code",
      "source": [
        "# Function to calculate term frequency (TF)\n",
        "def term_frequency(term, document):\n",
        "    return document.count(term) / len(document)"
      ],
      "metadata": {
        "id": "WRob8EROSsr5"
      },
      "execution_count": 26,
      "outputs": []
    },
    {
      "cell_type": "markdown",
      "source": [
        "# Inverse Document Frequency (IDF)"
      ],
      "metadata": {
        "id": "33O3JcW2TlM1"
      }
    },
    {
      "cell_type": "code",
      "source": [
        "# Function to calculate inverse document frequency (IDF)\n",
        "def inverse_document_frequency(term, all_documents):\n",
        "    num_docs_containing_term = sum(1 for doc in all_documents if term in doc)\n",
        "    return math.log(len(all_documents) / (1 + num_docs_containing_term))"
      ],
      "metadata": {
        "id": "UKvuulcEPUSG"
      },
      "execution_count": 27,
      "outputs": []
    },
    {
      "cell_type": "markdown",
      "source": [
        "# Compute TF-IDF"
      ],
      "metadata": {
        "id": "loUgX1FyTvbs"
      }
    },
    {
      "cell_type": "code",
      "source": [
        "# Compute TF-IDF for a document\n",
        "def compute_tfidf(document, all_documents, vocab):\n",
        "    tfidf_vector = []\n",
        "    for term in vocab:\n",
        "        tf = term_frequency(term, document)\n",
        "        idf = inverse_document_frequency(term, all_documents)\n",
        "        tfidf_vector.append(tf * idf)\n",
        "    return np.array(tfidf_vector)"
      ],
      "metadata": {
        "id": "pTAbg1KFPaes"
      },
      "execution_count": 28,
      "outputs": []
    },
    {
      "cell_type": "markdown",
      "source": [
        "# Cosine similarity between two vectors"
      ],
      "metadata": {
        "id": "P19a63tvbz1b"
      }
    },
    {
      "cell_type": "code",
      "source": [
        "# Compute cosine similarity between two vectors\n",
        "def cosine_similarity(vec1, vec2):\n",
        "    dot_product = np.dot(vec1, vec2)\n",
        "    norm_vec1 = np.linalg.norm(vec1)\n",
        "    norm_vec2 = np.linalg.norm(vec2)\n",
        "    return dot_product / (norm_vec1 * norm_vec2)"
      ],
      "metadata": {
        "id": "XnDIF9n4bwOr"
      },
      "execution_count": 29,
      "outputs": []
    },
    {
      "cell_type": "markdown",
      "source": [
        "# Calculate TF-IDF vectors"
      ],
      "metadata": {
        "id": "8vM4P8kpb_zm"
      }
    },
    {
      "cell_type": "code",
      "source": [
        "# Calculate TF-IDF vectors for documents and queries\n",
        "doc_tfidf_vectors = [compute_tfidf(doc, tokenized_docs, vocab) for doc in tokenized_docs]\n",
        "query_tfidf_vectors = [compute_tfidf(query, tokenized_docs, vocab) for query in tokenized_queries]"
      ],
      "metadata": {
        "id": "yldyokWDbsp2"
      },
      "execution_count": 30,
      "outputs": []
    },
    {
      "cell_type": "code",
      "source": [
        "# Open the file to write the results\n",
        "with open(\"Pawan.txt\", \"w\") as result_file:\n",
        "    # Calculate cosine similarities and rank top 3 documents for each query\n",
        "    for i, query_vector in enumerate(query_tfidf_vectors):\n",
        "        similarities = [cosine_similarity(query_vector, doc_vector) for doc_vector in doc_tfidf_vectors]\n",
        "\n",
        "        # Rank documents by similarity score\n",
        "        ranked_docs = sorted(enumerate(similarities), key=lambda x: x[1], reverse=True)[:3]  # Top 3\n",
        "\n",
        "        # Prepare the result string\n",
        "        result_str = f\"\\nTop 3 results for query '{queries[i]}':\\n\"\n",
        "        for rank, (doc_index, score) in enumerate(ranked_docs, 1):\n",
        "            result_str += f\"Rank {rank}: Document {doc_index + 1} with score {score:.4f}\\n\"\n",
        "\n",
        "        # Print to console and write to file\n",
        "        print(result_str)\n",
        "        result_file.write(result_str)"
      ],
      "metadata": {
        "colab": {
          "base_uri": "https://localhost:8080/"
        },
        "id": "Ih89XDZdbswT",
        "outputId": "4bec83ad-c5a9-4c0c-a24c-44f782066dc8"
      },
      "execution_count": 31,
      "outputs": [
        {
          "output_type": "stream",
          "name": "stdout",
          "text": [
            "\n",
            "Top 3 results for query 'battery life out':\n",
            "Rank 1: Document 9 with score 0.2204\n",
            "Rank 2: Document 8 with score 0.0151\n",
            "Rank 3: Document 10 with score 0.0140\n",
            "\n",
            "\n",
            "Top 3 results for query 'Call of Duty':\n",
            "Rank 1: Document 8 with score 0.0937\n",
            "Rank 2: Document 9 with score 0.0582\n",
            "Rank 3: Document 10 with score 0.0210\n",
            "\n",
            "\n",
            "Top 3 results for query 'cancellation fee':\n",
            "Rank 1: Document 4 with score 0.2361\n",
            "Rank 2: Document 1 with score 0.0000\n",
            "Rank 3: Document 2 with score 0.0000\n",
            "\n"
          ]
        }
      ]
    }
  ]
}